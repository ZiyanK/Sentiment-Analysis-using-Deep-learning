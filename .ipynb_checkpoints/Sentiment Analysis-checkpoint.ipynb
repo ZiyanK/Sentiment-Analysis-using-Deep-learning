{
 "cells": [
  {
   "cell_type": "code",
   "execution_count": 2,
   "metadata": {},
   "outputs": [
    {
     "name": "stderr",
     "output_type": "stream",
     "text": [
      "Using TensorFlow backend.\n"
     ]
    }
   ],
   "source": [
    "import numpy as np\n",
    "import pandas as pd\n",
    "import re\n",
    "from keras.models import Sequential\n",
    "from keras.layers import Embedding, Dense, LSTM, Dropout\n",
    "from sklearn.model_selection import train_test_split\n",
    "import keras\n",
    "import keras_metrics as km"
   ]
  },
  {
   "cell_type": "code",
   "execution_count": 3,
   "metadata": {},
   "outputs": [],
   "source": [
    "dataset = pd.read_csv('Sentiment.csv')"
   ]
  },
  {
   "cell_type": "code",
   "execution_count": 4,
   "metadata": {},
   "outputs": [
    {
     "name": "stdout",
     "output_type": "stream",
     "text": [
      "<class 'pandas.core.frame.DataFrame'>\n",
      "RangeIndex: 13871 entries, 0 to 13870\n",
      "Data columns (total 21 columns):\n",
      "id                           13871 non-null int64\n",
      "candidate                    13775 non-null object\n",
      "candidate_confidence         13871 non-null float64\n",
      "relevant_yn                  13871 non-null object\n",
      "relevant_yn_confidence       13871 non-null float64\n",
      "sentiment                    13871 non-null object\n",
      "sentiment_confidence         13871 non-null float64\n",
      "subject_matter               13545 non-null object\n",
      "subject_matter_confidence    13871 non-null float64\n",
      "candidate_gold               28 non-null object\n",
      "name                         13871 non-null object\n",
      "relevant_yn_gold             32 non-null object\n",
      "retweet_count                13871 non-null int64\n",
      "sentiment_gold               15 non-null object\n",
      "subject_matter_gold          18 non-null object\n",
      "text                         13871 non-null object\n",
      "tweet_coord                  21 non-null object\n",
      "tweet_created                13871 non-null object\n",
      "tweet_id                     13871 non-null int64\n",
      "tweet_location               9959 non-null object\n",
      "user_timezone                9468 non-null object\n",
      "dtypes: float64(4), int64(3), object(14)\n",
      "memory usage: 2.2+ MB\n"
     ]
    }
   ],
   "source": [
    "dataset.info()"
   ]
  },
  {
   "cell_type": "code",
   "execution_count": 4,
   "metadata": {},
   "outputs": [],
   "source": [
    "dataset = dataset[['text','sentiment']]\n",
    "dataset = dataset[dataset.sentiment != \"Neutral\"]"
   ]
  },
  {
   "cell_type": "code",
   "execution_count": 5,
   "metadata": {},
   "outputs": [
    {
     "data": {
      "text/html": [
       "<div>\n",
       "<style scoped>\n",
       "    .dataframe tbody tr th:only-of-type {\n",
       "        vertical-align: middle;\n",
       "    }\n",
       "\n",
       "    .dataframe tbody tr th {\n",
       "        vertical-align: top;\n",
       "    }\n",
       "\n",
       "    .dataframe thead th {\n",
       "        text-align: right;\n",
       "    }\n",
       "</style>\n",
       "<table border=\"1\" class=\"dataframe\">\n",
       "  <thead>\n",
       "    <tr style=\"text-align: right;\">\n",
       "      <th></th>\n",
       "      <th>text</th>\n",
       "      <th>sentiment</th>\n",
       "    </tr>\n",
       "  </thead>\n",
       "  <tbody>\n",
       "    <tr>\n",
       "      <th>1</th>\n",
       "      <td>RT @ScottWalker: Didn't catch the full #GOPdeb...</td>\n",
       "      <td>Positive</td>\n",
       "    </tr>\n",
       "    <tr>\n",
       "      <th>3</th>\n",
       "      <td>RT @RobGeorge: That Carly Fiorina is trending ...</td>\n",
       "      <td>Positive</td>\n",
       "    </tr>\n",
       "    <tr>\n",
       "      <th>4</th>\n",
       "      <td>RT @DanScavino: #GOPDebate w/ @realDonaldTrump...</td>\n",
       "      <td>Positive</td>\n",
       "    </tr>\n",
       "    <tr>\n",
       "      <th>5</th>\n",
       "      <td>RT @GregAbbott_TX: @TedCruz: \"On my first day ...</td>\n",
       "      <td>Positive</td>\n",
       "    </tr>\n",
       "    <tr>\n",
       "      <th>6</th>\n",
       "      <td>RT @warriorwoman91: I liked her and was happy ...</td>\n",
       "      <td>Negative</td>\n",
       "    </tr>\n",
       "  </tbody>\n",
       "</table>\n",
       "</div>"
      ],
      "text/plain": [
       "                                                text sentiment\n",
       "1  RT @ScottWalker: Didn't catch the full #GOPdeb...  Positive\n",
       "3  RT @RobGeorge: That Carly Fiorina is trending ...  Positive\n",
       "4  RT @DanScavino: #GOPDebate w/ @realDonaldTrump...  Positive\n",
       "5  RT @GregAbbott_TX: @TedCruz: \"On my first day ...  Positive\n",
       "6  RT @warriorwoman91: I liked her and was happy ...  Negative"
      ]
     },
     "execution_count": 5,
     "metadata": {},
     "output_type": "execute_result"
    }
   ],
   "source": [
    "dataset.head()"
   ]
  },
  {
   "cell_type": "code",
   "execution_count": 6,
   "metadata": {},
   "outputs": [
    {
     "data": {
      "text/plain": [
       "(10729, 2)"
      ]
     },
     "execution_count": 6,
     "metadata": {},
     "output_type": "execute_result"
    }
   ],
   "source": [
    "dataset.shape"
   ]
  },
  {
   "cell_type": "code",
   "execution_count": 7,
   "metadata": {},
   "outputs": [],
   "source": [
    "dataset['text'] = dataset['text'].apply(lambda x: x.lower())\n",
    "dataset['text'] = dataset['text'].apply(lambda x: re.sub(r'[\\W_]+', ' ', x))\n",
    "dataset['text'] = dataset['text'].apply(lambda x: re.sub('rt','',x))\n",
    "dataset['text'] = dataset['text'].apply(lambda x: x.lstrip())"
   ]
  },
  {
   "cell_type": "code",
   "execution_count": 8,
   "metadata": {},
   "outputs": [],
   "source": [
    "dataset['sentiment'] = dataset['sentiment'].apply(lambda x: re.sub('Positive','1', x))\n",
    "dataset['sentiment'] = dataset['sentiment'].apply(lambda x: re.sub('Negative','0', x))"
   ]
  },
  {
   "cell_type": "code",
   "execution_count": 9,
   "metadata": {},
   "outputs": [
    {
     "data": {
      "text/html": [
       "<div>\n",
       "<style scoped>\n",
       "    .dataframe tbody tr th:only-of-type {\n",
       "        vertical-align: middle;\n",
       "    }\n",
       "\n",
       "    .dataframe tbody tr th {\n",
       "        vertical-align: top;\n",
       "    }\n",
       "\n",
       "    .dataframe thead th {\n",
       "        text-align: right;\n",
       "    }\n",
       "</style>\n",
       "<table border=\"1\" class=\"dataframe\">\n",
       "  <thead>\n",
       "    <tr style=\"text-align: right;\">\n",
       "      <th></th>\n",
       "      <th>text</th>\n",
       "      <th>sentiment</th>\n",
       "    </tr>\n",
       "  </thead>\n",
       "  <tbody>\n",
       "    <tr>\n",
       "      <th>1</th>\n",
       "      <td>scottwalker didn t catch the full gopdebate la...</td>\n",
       "      <td>1</td>\n",
       "    </tr>\n",
       "    <tr>\n",
       "      <th>3</th>\n",
       "      <td>robgeorge that carly fiorina is trending hours...</td>\n",
       "      <td>1</td>\n",
       "    </tr>\n",
       "    <tr>\n",
       "      <th>4</th>\n",
       "      <td>danscavino gopdebate w realdonaldtrump deliver...</td>\n",
       "      <td>1</td>\n",
       "    </tr>\n",
       "    <tr>\n",
       "      <th>5</th>\n",
       "      <td>gregabbott tx tedcruz on my first day i will r...</td>\n",
       "      <td>1</td>\n",
       "    </tr>\n",
       "    <tr>\n",
       "      <th>6</th>\n",
       "      <td>warriorwoman91 i liked her and was happy when ...</td>\n",
       "      <td>0</td>\n",
       "    </tr>\n",
       "  </tbody>\n",
       "</table>\n",
       "</div>"
      ],
      "text/plain": [
       "                                                text sentiment\n",
       "1  scottwalker didn t catch the full gopdebate la...         1\n",
       "3  robgeorge that carly fiorina is trending hours...         1\n",
       "4  danscavino gopdebate w realdonaldtrump deliver...         1\n",
       "5  gregabbott tx tedcruz on my first day i will r...         1\n",
       "6  warriorwoman91 i liked her and was happy when ...         0"
      ]
     },
     "execution_count": 9,
     "metadata": {},
     "output_type": "execute_result"
    }
   ],
   "source": [
    "dataset.head()"
   ]
  },
  {
   "cell_type": "code",
   "execution_count": 10,
   "metadata": {},
   "outputs": [],
   "source": [
    "from keras.preprocessing.text import Tokenizer\n",
    "from keras.preprocessing.sequence import pad_sequences"
   ]
  },
  {
   "cell_type": "code",
   "execution_count": 11,
   "metadata": {},
   "outputs": [],
   "source": [
    "max_words = 2000"
   ]
  },
  {
   "cell_type": "code",
   "execution_count": 12,
   "metadata": {},
   "outputs": [],
   "source": [
    "tokenizer = Tokenizer(num_words = max_words, filters='!\"#$%&()*+,-./:;<=>?@[\\\\]^_`{|}~\\t\\n', split=' ')"
   ]
  },
  {
   "cell_type": "code",
   "execution_count": 13,
   "metadata": {},
   "outputs": [],
   "source": [
    "tokenizer.fit_on_texts(dataset['text'].values)"
   ]
  },
  {
   "cell_type": "code",
   "execution_count": 14,
   "metadata": {},
   "outputs": [],
   "source": [
    "x_tokenizer = tokenizer.texts_to_sequences(dataset['text'].values)"
   ]
  },
  {
   "cell_type": "code",
   "execution_count": 15,
   "metadata": {},
   "outputs": [],
   "source": [
    "x_tokenizer = pad_sequences(x_tokenizer)"
   ]
  },
  {
   "cell_type": "code",
   "execution_count": 16,
   "metadata": {},
   "outputs": [
    {
     "data": {
      "text/plain": [
       "array([[   0,    0,    0, ...,   13,    4,   11],\n",
       "       [   0,    0,    0, ...,  154,   14,   22],\n",
       "       [   0,    0,    0, ...,   13,    4,   11],\n",
       "       ...,\n",
       "       [   0,    0,    0, ...,   77,   71,    3],\n",
       "       [   0,    0,    0, ..., 1015, 1320,   79],\n",
       "       [   0,    0,    0, ...,    4,   11,  716]])"
      ]
     },
     "execution_count": 16,
     "metadata": {},
     "output_type": "execute_result"
    }
   ],
   "source": [
    "x_tokenizer"
   ]
  },
  {
   "cell_type": "code",
   "execution_count": 17,
   "metadata": {},
   "outputs": [],
   "source": [
    "y = np.array(dataset['sentiment'])"
   ]
  },
  {
   "cell_type": "code",
   "execution_count": 18,
   "metadata": {},
   "outputs": [
    {
     "data": {
      "text/plain": [
       "array(['1', '1', '1', ..., '1', '0', '1'], dtype=object)"
      ]
     },
     "execution_count": 18,
     "metadata": {},
     "output_type": "execute_result"
    }
   ],
   "source": [
    "y"
   ]
  },
  {
   "cell_type": "markdown",
   "metadata": {},
   "source": [
    "# Data preprocessing is complete"
   ]
  },
  {
   "cell_type": "code",
   "execution_count": 19,
   "metadata": {},
   "outputs": [],
   "source": [
    "x_train, x_test, y_train, y_test = train_test_split(x_tokenizer, y, test_size = 0.33, random_state = 0)"
   ]
  },
  {
   "cell_type": "code",
   "execution_count": 20,
   "metadata": {},
   "outputs": [
    {
     "data": {
      "text/plain": [
       "(7188, 30)"
      ]
     },
     "execution_count": 20,
     "metadata": {},
     "output_type": "execute_result"
    }
   ],
   "source": [
    "x_train.shape"
   ]
  },
  {
   "cell_type": "markdown",
   "metadata": {},
   "source": [
    "# Dataset has been split in training set and test set"
   ]
  },
  {
   "cell_type": "markdown",
   "metadata": {},
   "source": [
    "# Time to build a NN using RNN and LSTM"
   ]
  },
  {
   "cell_type": "code",
   "execution_count": 81,
   "metadata": {},
   "outputs": [],
   "source": [
    "from keras.callbacks import ModelCheckpoint\n",
    "from keras.callbacks import EarlyStopping"
   ]
  },
  {
   "cell_type": "code",
   "execution_count": 82,
   "metadata": {},
   "outputs": [],
   "source": [
    "filepath=\"weights.best.hdf5\"\n",
    "MC = ModelCheckpoint(filepath, monitor='val_loss', verbose=1, save_best_only=True, mode='min')\n",
    "ES = EarlyStopping(monitor='val_loss', patience=3, verbose=0, mode='min')\n",
    "callbacks_list = [MC, ES]"
   ]
  },
  {
   "cell_type": "code",
   "execution_count": 83,
   "metadata": {},
   "outputs": [],
   "source": [
    "model = Sequential()\n",
    "model.add(Embedding(input_dim = max_words, output_dim = 128, embeddings_initializer = 'uniform',input_length = x_train.shape[1]))"
   ]
  },
  {
   "cell_type": "code",
   "execution_count": 84,
   "metadata": {},
   "outputs": [],
   "source": [
    "model.add(Dropout(rate = 0.2))"
   ]
  },
  {
   "cell_type": "code",
   "execution_count": 85,
   "metadata": {},
   "outputs": [],
   "source": [
    "model.add(LSTM(units = 200, return_sequences=False, dropout = 0.2, recurrent_dropout = 0.2))"
   ]
  },
  {
   "cell_type": "code",
   "execution_count": 86,
   "metadata": {},
   "outputs": [],
   "source": [
    "##model.add(LSTM(units = 64, return_sequences=False))\n",
    "##model.add(Dropout(rate = 0.3))"
   ]
  },
  {
   "cell_type": "code",
   "execution_count": 87,
   "metadata": {},
   "outputs": [],
   "source": [
    "model.add(Dense(units = 10, activation = 'relu'))"
   ]
  },
  {
   "cell_type": "code",
   "execution_count": 88,
   "metadata": {},
   "outputs": [],
   "source": [
    "model.add(Dense(units = 1, activation = 'sigmoid'))"
   ]
  },
  {
   "cell_type": "code",
   "execution_count": 89,
   "metadata": {},
   "outputs": [],
   "source": [
    "model.compile(loss = 'binary_crossentropy', optimizer='adam', metrics = ['accuracy'])"
   ]
  },
  {
   "cell_type": "code",
   "execution_count": 90,
   "metadata": {},
   "outputs": [
    {
     "name": "stdout",
     "output_type": "stream",
     "text": [
      "_________________________________________________________________\n",
      "Layer (type)                 Output Shape              Param #   \n",
      "=================================================================\n",
      "embedding_6 (Embedding)      (None, 30, 128)           256000    \n",
      "_________________________________________________________________\n",
      "dropout_5 (Dropout)          (None, 30, 128)           0         \n",
      "_________________________________________________________________\n",
      "lstm_6 (LSTM)                (None, 200)               263200    \n",
      "_________________________________________________________________\n",
      "dense_11 (Dense)             (None, 10)                2010      \n",
      "_________________________________________________________________\n",
      "dense_12 (Dense)             (None, 1)                 11        \n",
      "=================================================================\n",
      "Total params: 521,221\n",
      "Trainable params: 521,221\n",
      "Non-trainable params: 0\n",
      "_________________________________________________________________\n"
     ]
    }
   ],
   "source": [
    "model.summary()"
   ]
  },
  {
   "cell_type": "code",
   "execution_count": 91,
   "metadata": {
    "scrolled": true
   },
   "outputs": [
    {
     "name": "stdout",
     "output_type": "stream",
     "text": [
      "Epoch 1/30\n",
      "7188/7188 [==============================] - 12s 2ms/step - loss: 0.4374 - acc: 0.8180\n",
      "Epoch 2/30\n",
      "7188/7188 [==============================] - 10s 1ms/step - loss: 0.3139 - acc: 0.8685: 0s - loss: 0.3136 - acc\n",
      "Epoch 3/30\n",
      "7188/7188 [==============================] - 10s 1ms/step - loss: 0.2700 - acc: 0.8877\n",
      "Epoch 4/30\n",
      "7188/7188 [==============================] - 10s 1ms/step - loss: 0.2388 - acc: 0.9035\n",
      "Epoch 5/30\n",
      "7188/7188 [==============================] - 10s 1ms/step - loss: 0.2129 - acc: 0.9126\n",
      "Epoch 6/30\n",
      "7188/7188 [==============================] - 10s 1ms/step - loss: 0.1901 - acc: 0.9213\n",
      "Epoch 7/30\n",
      "7188/7188 [==============================] - 10s 1ms/step - loss: 0.1703 - acc: 0.9314\n",
      "Epoch 8/30\n",
      "7188/7188 [==============================] - 10s 1ms/step - loss: 0.1534 - acc: 0.9359: 0s - loss: 0.1527 - acc:\n",
      "Epoch 9/30\n",
      "7188/7188 [==============================] - 10s 1ms/step - loss: 0.1417 - acc: 0.9410:\n",
      "Epoch 10/30\n",
      "7188/7188 [==============================] - 10s 1ms/step - loss: 0.1269 - acc: 0.9456\n",
      "Epoch 11/30\n",
      "7188/7188 [==============================] - 10s 1ms/step - loss: 0.1176 - acc: 0.9489\n",
      "Epoch 12/30\n",
      "7188/7188 [==============================] - 10s 1ms/step - loss: 0.1160 - acc: 0.9489\n",
      "Epoch 13/30\n",
      "7188/7188 [==============================] - 10s 1ms/step - loss: 0.1065 - acc: 0.9546: 4s - loss: 0.096\n",
      "Epoch 14/30\n",
      "7188/7188 [==============================] - 10s 1ms/step - loss: 0.1002 - acc: 0.9563\n",
      "Epoch 15/30\n",
      "7188/7188 [==============================] - 10s 1ms/step - loss: 0.0961 - acc: 0.9594: 0s - loss: 0.0961 - acc: 0.959\n",
      "Epoch 16/30\n",
      "7188/7188 [==============================] - 10s 1ms/step - loss: 0.0949 - acc: 0.9587\n",
      "Epoch 17/30\n",
      "7188/7188 [==============================] - 10s 1ms/step - loss: 0.0934 - acc: 0.9590\n",
      "Epoch 18/30\n",
      "7188/7188 [==============================] - 10s 1ms/step - loss: 0.0898 - acc: 0.9641: 1s - loss: 0.0904 \n",
      "Epoch 19/30\n",
      "7188/7188 [==============================] - 10s 1ms/step - loss: 0.0839 - acc: 0.9648\n",
      "Epoch 20/30\n",
      "7188/7188 [==============================] - 10s 1ms/step - loss: 0.0803 - acc: 0.9659: 0s - loss: 0.0801 - acc: 0.9\n",
      "Epoch 21/30\n",
      "7188/7188 [==============================] - 10s 1ms/step - loss: 0.0785 - acc: 0.9649\n",
      "Epoch 22/30\n",
      "7188/7188 [==============================] - 10s 1ms/step - loss: 0.0811 - acc: 0.9663\n",
      "Epoch 23/30\n",
      "7188/7188 [==============================] - 10s 1ms/step - loss: 0.0740 - acc: 0.9680\n",
      "Epoch 24/30\n",
      "7188/7188 [==============================] - 10s 1ms/step - loss: 0.0833 - acc: 0.9629: 4s - loss: 0.0818 - acc: - ETA: 0s - loss: 0.0834 - acc:\n",
      "Epoch 25/30\n",
      "7188/7188 [==============================] - 10s 1ms/step - loss: 0.0728 - acc: 0.9693\n",
      "Epoch 26/30\n",
      "7188/7188 [==============================] - 10s 1ms/step - loss: 0.0759 - acc: 0.9680\n",
      "Epoch 27/30\n",
      "7188/7188 [==============================] - 10s 1ms/step - loss: 0.0768 - acc: 0.9648\n",
      "Epoch 28/30\n",
      "7188/7188 [==============================] - 10s 1ms/step - loss: 0.0742 - acc: 0.9676\n",
      "Epoch 29/30\n",
      "7188/7188 [==============================] - 10s 1ms/step - loss: 0.0708 - acc: 0.9690\n",
      "Epoch 30/30\n",
      "7188/7188 [==============================] - 10s 1ms/step - loss: 0.0661 - acc: 0.9709\n"
     ]
    },
    {
     "data": {
      "text/plain": [
       "<keras.callbacks.History at 0x22a60df7d30>"
      ]
     },
     "execution_count": 91,
     "metadata": {},
     "output_type": "execute_result"
    }
   ],
   "source": [
    "model.fit(x_train, y_train, epochs = 30)"
   ]
  },
  {
   "cell_type": "code",
   "execution_count": 92,
   "metadata": {},
   "outputs": [
    {
     "name": "stdout",
     "output_type": "stream",
     "text": [
      "3541/3541 [==============================] - 2s 524us/step\n"
     ]
    },
    {
     "data": {
      "text/plain": [
       "[1.002558620789148, 0.82942671563389]"
      ]
     },
     "execution_count": 92,
     "metadata": {},
     "output_type": "execute_result"
    }
   ],
   "source": [
    "model.evaluate(x_test, y_test)"
   ]
  },
  {
   "cell_type": "code",
   "execution_count": null,
   "metadata": {},
   "outputs": [],
   "source": []
  }
 ],
 "metadata": {
  "kernelspec": {
   "display_name": "Python 3",
   "language": "python",
   "name": "python3"
  },
  "language_info": {
   "codemirror_mode": {
    "name": "ipython",
    "version": 3
   },
   "file_extension": ".py",
   "mimetype": "text/x-python",
   "name": "python",
   "nbconvert_exporter": "python",
   "pygments_lexer": "ipython3",
   "version": "3.7.3"
  }
 },
 "nbformat": 4,
 "nbformat_minor": 2
}
